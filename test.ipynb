{
 "cells": [
  {
   "cell_type": "markdown",
   "id": "a40f5127",
   "metadata": {},
   "source": [
    "<h3>Importing the Libraries"
   ]
  },
  {
   "cell_type": "code",
   "execution_count": 1,
   "id": "0c1823f1",
   "metadata": {},
   "outputs": [],
   "source": [
    "import os\n",
    "import cv2\n",
    "import argparse\n",
    "import zipfile\n",
    "import pandas as pd\n",
    "import numpy as np\n",
    "import matplotlib.pyplot as plt\n",
    "\n",
    "import torch\n",
    "import torch.nn.functional as F\n",
    "import torch.nn as nn\n",
    "from torch.utils.data import DataLoader\n",
    "from torch.utils.data import Dataset\n",
    "import torch.optim as optim\n",
    "from torch.optim.lr_scheduler import StepLR\n",
    "\n",
    "import torchvision\n",
    "import torchvision.transforms as transforms\n",
    "\n",
    "from efficientnet_pytorch import EfficientNet"
   ]
  },
  {
   "cell_type": "code",
   "execution_count": 2,
   "id": "27577d82",
   "metadata": {},
   "outputs": [],
   "source": [
    "for file_name in os.listdir():\n",
    "    name, extension = os.path.splitext(file_name)\n",
    "    if extension == '.png':\n",
    "        original_image = cv2.imread(file_name)\n",
    "        original_image = cv2.cvtColor(original_image, cv2.COLOR_BGR2GRAY)\n",
    "        resized_image = cv2.resize(original_image, (100, 100))\n",
    "        cv2.imwrite(file_name, resized_image)"
   ]
  },
  {
   "cell_type": "code",
   "execution_count": 3,
   "id": "4229da26",
   "metadata": {},
   "outputs": [],
   "source": [
    "def class_initiator():\n",
    "    file_array = []\n",
    "    for file_name in os.listdir():\n",
    "        name, extension = os.path.splitext(file_name)\n",
    "        if extension == '.png':\n",
    "            file_array.append(file_name)\n",
    "    return file_array"
   ]
  },
  {
   "cell_type": "code",
   "execution_count": 4,
   "id": "a2c1adc8",
   "metadata": {},
   "outputs": [],
   "source": [
    "file_array = class_initiator()\n",
    "class_dictionary = {\n",
    "            'file_name': file_array\n",
    "          }\n",
    "df = pd.DataFrame(class_dictionary)\n",
    "df.to_csv('dataset.csv')"
   ]
  },
  {
   "cell_type": "code",
   "execution_count": 5,
   "id": "17367e97",
   "metadata": {},
   "outputs": [],
   "source": [
    "class CustomDataset(Dataset):\n",
    "    def __init__(self, csv_file, root_dir, transform = None):\n",
    "        self.annotations = pd.read_csv(csv_file)\n",
    "        self.root_dir = root_dir\n",
    "        self.transform = transform\n",
    "        \n",
    "    def __len__(self):\n",
    "        return len(self.annotations)\n",
    "    \n",
    "    def __getitem__(self, index):\n",
    "        img_path = os.path.join(str(self.root_dir), str(self.annotations.iloc[index, 1]))\n",
    "        image = plt.imread(img_path)\n",
    "        \n",
    "        if self.transform:\n",
    "            image = self.transform(image)\n",
    "        return (image)"
   ]
  },
  {
   "cell_type": "code",
   "execution_count": 6,
   "id": "d151d3ab",
   "metadata": {},
   "outputs": [],
   "source": [
    "root_directory = os.getcwd()\n",
    "dataset = CustomDataset(csv_file = \"dataset.csv\", root_dir = root_directory, transform = transforms.ToTensor())\n",
    "batch_size = 500\n",
    "test_loader = DataLoader(dataset = dataset, batch_size = batch_size, shuffle = True)"
   ]
  },
  {
   "cell_type": "markdown",
   "id": "3c5081e0",
   "metadata": {},
   "source": [
    "<h3>Neural Network Class"
   ]
  },
  {
   "cell_type": "code",
   "execution_count": 7,
   "id": "02687748",
   "metadata": {},
   "outputs": [],
   "source": [
    "class Net(nn.Module):\n",
    "    def __init__(self):\n",
    "        super(Net, self).__init__()\n",
    "        self.conv1 = nn.Conv2d(1, 32, 3, 1)\n",
    "        self.conv2 = nn.Conv2d(32, 64, 3, 1)\n",
    "        self.conv3 = nn.Conv2d(64, 128, 5, 1)\n",
    "        self.dropout1 = nn.Dropout(0.25)\n",
    "        self.dropout2 = nn.Dropout(0.5)\n",
    "        self.fc1 = nn.Linear(10368, 4096)\n",
    "        self.fc2 = nn.Linear(4096, 1024)\n",
    "        self.fc3 = nn.Linear(1024, 128)\n",
    "        self.fc4 = nn.Linear(128, 9)\n",
    "\n",
    "    def forward(self, x):\n",
    "        x = self.conv1(x)\n",
    "        x = F.relu(x)\n",
    "        x = F.max_pool2d(x, 2)\n",
    "        x = self.conv2(x)\n",
    "        x = F.relu(x)\n",
    "        x = F.max_pool2d(x, 2)\n",
    "        x = self.conv3(x)\n",
    "        x = F.relu(x)\n",
    "        x = F.max_pool2d(x, 2)\n",
    "        x = self.dropout1(x)\n",
    "        x = torch.flatten(x, 1)\n",
    "        x = self.fc1(x)\n",
    "        x = F.relu(x)\n",
    "        x = self.dropout2(x)\n",
    "        x = self.fc2(x)\n",
    "        x = F.relu(x)\n",
    "        x = self.fc3(x)\n",
    "        x = F.relu(x)\n",
    "        x = self.fc4(x)\n",
    "\n",
    "        return x"
   ]
  },
  {
   "cell_type": "code",
   "execution_count": 8,
   "id": "d536ff73",
   "metadata": {},
   "outputs": [],
   "source": [
    "device = torch.device(\"cuda:0\" if torch.cuda.is_available() else \"cpu\")\n",
    "model = Net().to(device)\n",
    "criterion = nn.CrossEntropyLoss()\n",
    "optimizer = optim.Adam(model.parameters(), lr = (1e-3))"
   ]
  },
  {
   "cell_type": "code",
   "execution_count": 9,
   "id": "64f9b94c",
   "metadata": {
    "scrolled": true
   },
   "outputs": [
    {
     "data": {
      "text/plain": [
       "<All keys matched successfully>"
      ]
     },
     "execution_count": 9,
     "metadata": {},
     "output_type": "execute_result"
    }
   ],
   "source": [
    "model.load_state_dict(torch.load('0602-674712683-SubramanianShunmugam.pt'))"
   ]
  },
  {
   "cell_type": "code",
   "execution_count": 10,
   "id": "3ca56ecd",
   "metadata": {},
   "outputs": [],
   "source": [
    "for values in test_loader:\n",
    "    output = model(values)\n",
    "    pred = output.argmax(dim=1, keepdim=True)"
   ]
  },
  {
   "cell_type": "code",
   "execution_count": 18,
   "id": "d2e72802",
   "metadata": {},
   "outputs": [
    {
     "name": "stdout",
     "output_type": "stream",
     "text": [
      "File Name:  Circle_000dfc5c-2a92-11ea-8123-8363a7ec19e6.png\n",
      "Circle\n",
      "File Name:  Circle_000ed2d8-2a8a-11ea-8123-8363a7ec19e6.png\n",
      "Circle\n",
      "File Name:  Circle_00a80338-2a92-11ea-8123-8363a7ec19e6.png\n",
      "Circle\n",
      "File Name:  Circle_00b9c086-2a8e-11ea-8123-8363a7ec19e6.png\n",
      "Circle\n",
      "File Name:  Circle_00bb366e-2a89-11ea-8123-8363a7ec19e6.png\n",
      "Circle\n",
      "File Name:  Circle_00c64264-2a95-11ea-8123-8363a7ec19e6.png\n",
      "Circle\n",
      "File Name:  Circle_00d04b8c-2a91-11ea-8123-8363a7ec19e6.png\n",
      "Circle\n",
      "File Name:  Circle_00d9c254-2a99-11ea-8123-8363a7ec19e6.png\n",
      "Circle\n",
      "File Name:  Circle_00dee67a-2a86-11ea-8123-8363a7ec19e6.png\n",
      "Nonagon\n",
      "File Name:  Circle_00e3ff88-2a96-11ea-8123-8363a7ec19e6.png\n",
      "Nonagon\n",
      "File Name:  Circle_00ed5faa-2a88-11ea-8123-8363a7ec19e6.png\n",
      "Circle\n",
      "File Name:  Circle_00f3a342-2a97-11ea-8123-8363a7ec19e6.png\n",
      "Circle\n",
      "File Name:  Circle_00f5cb02-2a94-11ea-8123-8363a7ec19e6.png\n",
      "Nonagon\n",
      "File Name:  Circle_00f6e2b8-2a84-11ea-8123-8363a7ec19e6.png\n",
      "Circle\n",
      "File Name:  Circle_0a05eaf4-2a8c-11ea-8123-8363a7ec19e6.png\n",
      "Circle\n",
      "File Name:  Circle_0a0b51ca-2a86-11ea-8123-8363a7ec19e6.png\n",
      "Circle\n",
      "File Name:  Circle_0a0ed53c-2a8d-11ea-8123-8363a7ec19e6.png\n",
      "Circle\n",
      "File Name:  Circle_0a18f3fc-2a90-11ea-8123-8363a7ec19e6.png\n",
      "Circle\n",
      "File Name:  Circle_0a20f41e-2a98-11ea-8123-8363a7ec19e6.png\n",
      "Circle\n",
      "File Name:  Circle_0a21e438-2a88-11ea-8123-8363a7ec19e6.png\n",
      "Heptagon\n",
      "File Name:  Circle_0a233774-2a93-11ea-8123-8363a7ec19e6.png\n",
      "Circle\n",
      "File Name:  Circle_0a23dbe8-2a84-11ea-8123-8363a7ec19e6.png\n",
      "Nonagon\n",
      "File Name:  Circle_0a2d3e5c-2a8b-11ea-8123-8363a7ec19e6.png\n",
      "Circle\n",
      "File Name:  Circle_0a398814-2a87-11ea-8123-8363a7ec19e6.png\n",
      "Circle\n",
      "File Name:  Circle_0a4a940a-2a92-11ea-8123-8363a7ec19e6.png\n",
      "Circle\n",
      "File Name:  Circle_0a4d8928-2a9a-11ea-8123-8363a7ec19e6.png\n",
      "Octagon\n",
      "File Name:  Circle_0a5b37b4-2a8e-11ea-8123-8363a7ec19e6.png\n",
      "Circle\n",
      "File Name:  Circle_0a699ab0-2a8a-11ea-8123-8363a7ec19e6.png\n",
      "Circle\n",
      "File Name:  Circle_0a6ed4de-2a95-11ea-8123-8363a7ec19e6.png\n",
      "Circle\n",
      "File Name:  Circle_0a7c44d0-2a99-11ea-8123-8363a7ec19e6.png\n",
      "Circle\n",
      "File Name:  Circle_0a86eaf0-2a96-11ea-8123-8363a7ec19e6.png\n",
      "Circle\n",
      "File Name:  Circle_0a88e01e-2a85-11ea-8123-8363a7ec19e6.png\n",
      "Circle\n",
      "File Name:  Circle_0a93c594-2a97-11ea-8123-8363a7ec19e6.png\n",
      "Circle\n",
      "File Name:  Circle_0a95ace0-2a94-11ea-8123-8363a7ec19e6.png\n",
      "Circle\n",
      "File Name:  Circle_0a9dd15e-2a8f-11ea-8123-8363a7ec19e6.png\n",
      "Circle\n",
      "File Name:  Circle_0aa8bc42-2a8d-11ea-8123-8363a7ec19e6.png\n",
      "Circle\n",
      "File Name:  Circle_0ab2f75e-2a90-11ea-8123-8363a7ec19e6.png\n",
      "Circle\n"
     ]
    }
   ],
   "source": [
    "count = 0\n",
    "for output_value in pred:\n",
    "    print(\"File Name: \", file_array[count])\n",
    "    if output_value.item() == 0:\n",
    "        print(\"Circle\")\n",
    "    if output_value.item() == 1:\n",
    "        print(\"Square\")\n",
    "    if output_value.item() == 2:\n",
    "        print(\"Octagon\")\n",
    "    if output_value.item() == 3:\n",
    "        print(\"Heptagon\")\n",
    "    if output_value.item() == 4:\n",
    "        print(\"Nonagon\")\n",
    "    if output_value.item() == 5:\n",
    "        print(\"Star\")\n",
    "    if output_value.item() == 6:\n",
    "        print(\"Hexagon\")\n",
    "    if output_value.item() == 7:\n",
    "        print(\"Pentagon\")\n",
    "    if output_value.item() == 8:\n",
    "        print(\"Triangle\")\n",
    "    count+=1"
   ]
  }
 ],
 "metadata": {
  "kernelspec": {
   "display_name": "Python 3",
   "language": "python",
   "name": "python3"
  },
  "language_info": {
   "codemirror_mode": {
    "name": "ipython",
    "version": 3
   },
   "file_extension": ".py",
   "mimetype": "text/x-python",
   "name": "python",
   "nbconvert_exporter": "python",
   "pygments_lexer": "ipython3",
   "version": "3.8.8"
  }
 },
 "nbformat": 4,
 "nbformat_minor": 5
}
